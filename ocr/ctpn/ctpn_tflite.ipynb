{
 "cells": [
  {
   "cell_type": "markdown",
   "metadata": {
    "id": "MUXex9ctTuDB"
   },
   "source": [
    "## Setup"
   ]
  },
  {
   "cell_type": "code",
   "execution_count": 21,
   "metadata": {
    "id": "kS_mq4yAlXHZ"
   },
   "outputs": [
    {
     "name": "stdout",
     "output_type": "stream",
     "text": [
      "2.10.1\n"
     ]
    }
   ],
   "source": [
    "# TensorFlow and tf.keras\n",
    "import tensorflow as tf\n",
    "from tensorflow import keras\n",
    "from tensorflow.keras.applications.vgg16 import VGG16\n",
    "from tensorflow.keras.layers import Conv2D, Bidirectional, GRU\n",
    "from tensorflow.keras import Model\n",
    "\n",
    "# Helper libraries\n",
    "import numpy as np\n",
    "import matplotlib.pyplot as plt\n",
    "import math\n",
    "\n",
    "print(tf.__version__)"
   ]
  },
  {
   "cell_type": "code",
   "execution_count": 22,
   "metadata": {
    "id": "IWgBGmaplzcp"
   },
   "outputs": [],
   "source": [
    "def get_model(image_channels=3, vgg_weights_path=None):\n",
    "    image_shape = (None, None, image_channels)  # 大小不定\n",
    "    base_model = VGG16(weights=None, include_top=False, input_shape=image_shape)\n",
    "    if vgg_weights_path is not None:  # 基础模型预训练微调\n",
    "        base_model.load_weights(vgg_weights_path)\n",
    "        base_model.trainable = True\n",
    "    else:\n",
    "        base_model.trainable = False\n",
    "\n",
    "    # 基础模型输入和输出\n",
    "    input = base_model.input\n",
    "    sub_output = base_model.get_layer('block5_conv3').output\n",
    "\n",
    "    # tf.print(sub_output.shape)\n",
    "\n",
    "    x = Conv2D(512, (3, 3), strides=(1, 1), padding='same', activation='relu', name='rpn_conv1')(sub_output)\n",
    "    # x1 = Lambda(_reshape, output_shape=(None, 512))(x)  # output_shape not include batch dim, (N*H, W, C), C=512\n",
    "    # b = tf.shape(x)\n",
    "    # x1 = tf.reshape(x, [b[0] * b[1], b[2], b[3]])  # (N x H, W, C)\n",
    "    x1 = tf.squeeze(x, axis=0)\n",
    "    # x1.set_shape((None, None, 512))\n",
    "    # x1 = tf.ensure_shape(x1, (31, 31, 512))\n",
    "\n",
    "    x2 = Bidirectional(GRU(128, return_sequences=True, reset_after=False), name='blstm')(x1)\n",
    "    b = tf.shape(x)\n",
    "    x3 = tf.reshape(x2, [b[0], b[1], b[2], 256])  # (N, H, W, 256)\n",
    "    x3 = Conv2D(512, (1, 1), padding='same', activation='relu', name='lstm_fc')(x3)\n",
    "\n",
    "    # 分类分支\n",
    "    cls = Conv2D(10 * 2, (1, 1), padding='same', activation='linear', name='rpn_class_origin')(x3)\n",
    "    # cls = Lambda(_reshape3, output_shape=(None, 2), name='rpn_class')(cls)  # (N, H*W*10, 2)\n",
    "    b = tf.shape(cls)\n",
    "    cls = tf.reshape(cls, [b[0], b[1] * b[2] * 10, 2], name='rpn_class')  # (N, H x W x 10, 2)\n",
    "    # cls_prod = Activation('softmax', name='rpn_cls_softmax')(cls)\n",
    "\n",
    "    # 高度回归分支\n",
    "    regr = Conv2D(10 * 2, (1, 1), padding='same', activation='linear', name='rpn_regress_origin')(x3)\n",
    "    # regr = Lambda(_reshape3, output_shape=(None, 2), name='rpn_regress')(regr)  # (N, H*W*10, 2)\n",
    "    b = tf.shape(regr)\n",
    "    regr = tf.reshape(regr, [b[0], b[1] * b[2] * 10, 2], name='rpn_regress')  # (N, H x W x 10, 2)\n",
    "\n",
    "    # predict_model = Model(input, [cls, regr, cls_prod])\n",
    "\n",
    "    train_model = Model(input, [cls, regr])\n",
    "\n",
    "    return train_model\n"
   ]
  },
  {
   "cell_type": "code",
   "execution_count": 23,
   "metadata": {},
   "outputs": [
    {
     "name": "stdout",
     "output_type": "stream",
     "text": [
      "Model: \"model_3\"\n",
      "__________________________________________________________________________________________________\n",
      " Layer (type)                   Output Shape         Param #     Connected to                     \n",
      "==================================================================================================\n",
      " input_4 (InputLayer)           [(None, None, None,  0           []                               \n",
      "                                 3)]                                                              \n",
      "                                                                                                  \n",
      " block1_conv1 (Conv2D)          (None, None, None,   1792        ['input_4[0][0]']                \n",
      "                                64)                                                               \n",
      "                                                                                                  \n",
      " block1_conv2 (Conv2D)          (None, None, None,   36928       ['block1_conv1[0][0]']           \n",
      "                                64)                                                               \n",
      "                                                                                                  \n",
      " block1_pool (MaxPooling2D)     (None, None, None,   0           ['block1_conv2[0][0]']           \n",
      "                                64)                                                               \n",
      "                                                                                                  \n",
      " block2_conv1 (Conv2D)          (None, None, None,   73856       ['block1_pool[0][0]']            \n",
      "                                128)                                                              \n",
      "                                                                                                  \n",
      " block2_conv2 (Conv2D)          (None, None, None,   147584      ['block2_conv1[0][0]']           \n",
      "                                128)                                                              \n",
      "                                                                                                  \n",
      " block2_pool (MaxPooling2D)     (None, None, None,   0           ['block2_conv2[0][0]']           \n",
      "                                128)                                                              \n",
      "                                                                                                  \n",
      " block3_conv1 (Conv2D)          (None, None, None,   295168      ['block2_pool[0][0]']            \n",
      "                                256)                                                              \n",
      "                                                                                                  \n",
      " block3_conv2 (Conv2D)          (None, None, None,   590080      ['block3_conv1[0][0]']           \n",
      "                                256)                                                              \n",
      "                                                                                                  \n",
      " block3_conv3 (Conv2D)          (None, None, None,   590080      ['block3_conv2[0][0]']           \n",
      "                                256)                                                              \n",
      "                                                                                                  \n",
      " block3_pool (MaxPooling2D)     (None, None, None,   0           ['block3_conv3[0][0]']           \n",
      "                                256)                                                              \n",
      "                                                                                                  \n",
      " block4_conv1 (Conv2D)          (None, None, None,   1180160     ['block3_pool[0][0]']            \n",
      "                                512)                                                              \n",
      "                                                                                                  \n",
      " block4_conv2 (Conv2D)          (None, None, None,   2359808     ['block4_conv1[0][0]']           \n",
      "                                512)                                                              \n",
      "                                                                                                  \n",
      " block4_conv3 (Conv2D)          (None, None, None,   2359808     ['block4_conv2[0][0]']           \n",
      "                                512)                                                              \n",
      "                                                                                                  \n",
      " block4_pool (MaxPooling2D)     (None, None, None,   0           ['block4_conv3[0][0]']           \n",
      "                                512)                                                              \n",
      "                                                                                                  \n",
      " block5_conv1 (Conv2D)          (None, None, None,   2359808     ['block4_pool[0][0]']            \n",
      "                                512)                                                              \n",
      "                                                                                                  \n",
      " block5_conv2 (Conv2D)          (None, None, None,   2359808     ['block5_conv1[0][0]']           \n",
      "                                512)                                                              \n",
      "                                                                                                  \n",
      " block5_conv3 (Conv2D)          (None, None, None,   2359808     ['block5_conv2[0][0]']           \n",
      "                                512)                                                              \n",
      "                                                                                                  \n",
      " rpn_conv1 (Conv2D)             (None, None, None,   2359808     ['block5_conv3[0][0]']           \n",
      "                                512)                                                              \n",
      "                                                                                                  \n",
      " tf.compat.v1.squeeze_3 (TFOpLa  (None, None, 512)   0           ['rpn_conv1[0][0]']              \n",
      " mbda)                                                                                            \n",
      "                                                                                                  \n",
      " tf.compat.v1.shape_9 (TFOpLamb  (4,)                0           ['rpn_conv1[0][0]']              \n",
      " da)                                                                                              \n",
      "                                                                                                  \n",
      " blstm (Bidirectional)          (None, None, 256)    492288      ['tf.compat.v1.squeeze_3[0][0]'] \n",
      "                                                                                                  \n",
      " tf.__operators__.getitem_27 (S  ()                  0           ['tf.compat.v1.shape_9[0][0]']   \n",
      " licingOpLambda)                                                                                  \n",
      "                                                                                                  \n",
      " tf.__operators__.getitem_28 (S  ()                  0           ['tf.compat.v1.shape_9[0][0]']   \n",
      " licingOpLambda)                                                                                  \n",
      "                                                                                                  \n",
      " tf.__operators__.getitem_29 (S  ()                  0           ['tf.compat.v1.shape_9[0][0]']   \n",
      " licingOpLambda)                                                                                  \n",
      "                                                                                                  \n",
      " tf.reshape_9 (TFOpLambda)      (None, None, None,   0           ['blstm[0][0]',                  \n",
      "                                256)                              'tf.__operators__.getitem_27[0][\n",
      "                                                                 0]',                             \n",
      "                                                                  'tf.__operators__.getitem_28[0][\n",
      "                                                                 0]',                             \n",
      "                                                                  'tf.__operators__.getitem_29[0][\n"
     ]
    },
    {
     "name": "stdout",
     "output_type": "stream",
     "text": [
      "                                                                 0]']                             \n",
      "                                                                                                  \n",
      " lstm_fc (Conv2D)               (None, None, None,   131584      ['tf.reshape_9[0][0]']           \n",
      "                                512)                                                              \n",
      "                                                                                                  \n",
      " rpn_class_origin (Conv2D)      (None, None, None,   10260       ['lstm_fc[0][0]']                \n",
      "                                20)                                                               \n",
      "                                                                                                  \n",
      " rpn_regress_origin (Conv2D)    (None, None, None,   10260       ['lstm_fc[0][0]']                \n",
      "                                20)                                                               \n",
      "                                                                                                  \n",
      " tf.compat.v1.shape_10 (TFOpLam  (4,)                0           ['rpn_class_origin[0][0]']       \n",
      " bda)                                                                                             \n",
      "                                                                                                  \n",
      " tf.compat.v1.shape_11 (TFOpLam  (4,)                0           ['rpn_regress_origin[0][0]']     \n",
      " bda)                                                                                             \n",
      "                                                                                                  \n",
      " tf.__operators__.getitem_31 (S  ()                  0           ['tf.compat.v1.shape_10[0][0]']  \n",
      " licingOpLambda)                                                                                  \n",
      "                                                                                                  \n",
      " tf.__operators__.getitem_32 (S  ()                  0           ['tf.compat.v1.shape_10[0][0]']  \n",
      " licingOpLambda)                                                                                  \n",
      "                                                                                                  \n",
      " tf.__operators__.getitem_34 (S  ()                  0           ['tf.compat.v1.shape_11[0][0]']  \n",
      " licingOpLambda)                                                                                  \n",
      "                                                                                                  \n",
      " tf.__operators__.getitem_35 (S  ()                  0           ['tf.compat.v1.shape_11[0][0]']  \n",
      " licingOpLambda)                                                                                  \n",
      "                                                                                                  \n",
      " tf.math.multiply_12 (TFOpLambd  ()                  0           ['tf.__operators__.getitem_31[0][\n",
      " a)                                                              0]',                             \n",
      "                                                                  'tf.__operators__.getitem_32[0][\n",
      "                                                                 0]']                             \n",
      "                                                                                                  \n",
      " tf.math.multiply_14 (TFOpLambd  ()                  0           ['tf.__operators__.getitem_34[0][\n",
      " a)                                                              0]',                             \n",
      "                                                                  'tf.__operators__.getitem_35[0][\n",
      "                                                                 0]']                             \n",
      "                                                                                                  \n",
      " tf.__operators__.getitem_30 (S  ()                  0           ['tf.compat.v1.shape_10[0][0]']  \n",
      " licingOpLambda)                                                                                  \n",
      "                                                                                                  \n",
      " tf.math.multiply_13 (TFOpLambd  ()                  0           ['tf.math.multiply_12[0][0]']    \n",
      " a)                                                                                               \n",
      "                                                                                                  \n",
      " tf.__operators__.getitem_33 (S  ()                  0           ['tf.compat.v1.shape_11[0][0]']  \n",
      " licingOpLambda)                                                                                  \n",
      "                                                                                                  \n",
      " tf.math.multiply_15 (TFOpLambd  ()                  0           ['tf.math.multiply_14[0][0]']    \n",
      " a)                                                                                               \n",
      "                                                                                                  \n",
      " tf.reshape_10 (TFOpLambda)     (None, None, 2)      0           ['rpn_class_origin[0][0]',       \n",
      "                                                                  'tf.__operators__.getitem_30[0][\n",
      "                                                                 0]',                             \n",
      "                                                                  'tf.math.multiply_13[0][0]']    \n",
      "                                                                                                  \n",
      " tf.reshape_11 (TFOpLambda)     (None, None, 2)      0           ['rpn_regress_origin[0][0]',     \n",
      "                                                                  'tf.__operators__.getitem_33[0][\n",
      "                                                                 0]',                             \n",
      "                                                                  'tf.math.multiply_15[0][0]']    \n",
      "                                                                                                  \n",
      "==================================================================================================\n",
      "Total params: 17,718,888\n",
      "Trainable params: 3,004,200\n",
      "Non-trainable params: 14,714,688\n",
      "__________________________________________________________________________________________________\n",
      "[<tf.Tensor: shape=(1, 9610, 2), dtype=float32, numpy=\n",
      "array([[[-0.0003038 ,  0.00079422],\n",
      "        [-0.00119157,  0.00066692],\n",
      "        [-0.00165526, -0.00106369],\n",
      "        ...,\n",
      "        [ 0.00156797,  0.00105528],\n",
      "        [-0.00149899,  0.00220557],\n",
      "        [-0.00037526, -0.00197542]]], dtype=float32)>, <tf.Tensor: shape=(1, 9610, 2), dtype=float32, numpy=\n",
      "array([[[-0.00084488, -0.00101603],\n",
      "        [-0.00069394, -0.00203349],\n",
      "        [ 0.00082251,  0.00164492],\n",
      "        ...,\n",
      "        [ 0.00117558,  0.00314122],\n",
      "        [ 0.00234521,  0.00219317],\n",
      "        [-0.00174341, -0.00112847]]], dtype=float32)>]\n"
     ]
    }
   ],
   "source": [
    "model = get_model()\n",
    "\n",
    "model.summary()\n",
    "\n",
    "input_image = tf.random.normal(shape=(1, 500, 500, 3), dtype=tf.float32)\n",
    "\n",
    "print(model(input_image))"
   ]
  },
  {
   "cell_type": "markdown",
   "metadata": {
    "id": "AWROBI4iv9fY"
   },
   "source": [
    "## Convert the Keras model to TensorFlow Lite"
   ]
  },
  {
   "cell_type": "code",
   "execution_count": 24,
   "metadata": {},
   "outputs": [
    {
     "name": "stderr",
     "output_type": "stream",
     "text": [
      "WARNING:absl:Found untraced functions such as _jit_compiled_convolution_op, _jit_compiled_convolution_op, _jit_compiled_convolution_op, _jit_compiled_convolution_op, _jit_compiled_convolution_op while saving (showing 5 of 17). These functions will not be directly callable after loading.\n"
     ]
    },
    {
     "name": "stdout",
     "output_type": "stream",
     "text": [
      "INFO:tensorflow:Assets written to: ./saved_model\\assets\n"
     ]
    },
    {
     "name": "stderr",
     "output_type": "stream",
     "text": [
      "INFO:tensorflow:Assets written to: ./saved_model\\assets\n"
     ]
    }
   ],
   "source": [
    "export_path = \"./saved_model\"\n",
    "tf.saved_model.save(model, export_path)"
   ]
  },
  {
   "cell_type": "code",
   "execution_count": 25,
   "metadata": {
    "id": "2fXStjR4mzkR",
    "scrolled": true
   },
   "outputs": [],
   "source": [
    "# Convert Keras model to TF Lite format.\n",
    "\n",
    "tflite_path = \"./ctpn.tflite\"\n",
    "converter = tf.lite.TFLiteConverter.from_saved_model(export_path)\n",
    "converter.target_spec.supported_ops = [\n",
    "    tf.lite.OpsSet.TFLITE_BUILTINS,  # enable TFLite ops\n",
    "    tf.lite.OpsSet.SELECT_TF_OPS,  # enable TF ops\n",
    "]\n",
    "tflite_model = converter.convert()\n",
    "with open(tflite_path, 'wb') as f:\n",
    "    f.write(tflite_model)"
   ]
  },
  {
   "cell_type": "code",
   "execution_count": 26,
   "metadata": {
    "id": "Q_Z5yLxrwbpI"
   },
   "outputs": [
    {
     "name": "stdout",
     "output_type": "stream",
     "text": [
      "TF Lite model: C:\\Users\\Lenovo\\Desktop\\mt-io-dev\\ocr\\ctpn\\ctpn.tflite\n"
     ]
    }
   ],
   "source": [
    "import os\n",
    "model_path = os.path.join(os.getcwd(), 'ctpn.tflite')\n",
    "print('TF Lite model:', model_path)"
   ]
  },
  {
   "cell_type": "markdown",
   "metadata": {
    "id": "3TvDxaYU2ui7"
   },
   "source": [
    "## Verify the TensorFlow Lite model"
   ]
  },
  {
   "cell_type": "code",
   "execution_count": 27,
   "metadata": {
    "id": "xPtbtEJ2uacB"
   },
   "outputs": [
    {
     "name": "stdout",
     "output_type": "stream",
     "text": [
      "[{'name': 'serving_default_input_4:0', 'index': 0, 'shape': array([1, 1, 1, 3]), 'shape_signature': array([-1, -1, -1,  3]), 'dtype': <class 'numpy.float32'>, 'quantization': (0.0, 0), 'quantization_parameters': {'scales': array([], dtype=float32), 'zero_points': array([], dtype=int32), 'quantized_dimension': 0}, 'sparsity_parameters': {}}]\n",
      "[[-0.00084487 -0.00101603]\n",
      " [-0.00069394 -0.00203349]\n",
      " [ 0.00082251  0.00164492]\n",
      " ...\n",
      " [ 0.00117558  0.00314122]\n",
      " [ 0.00234521  0.00219317]\n",
      " [-0.00174341 -0.00112847]]\n"
     ]
    }
   ],
   "source": [
    "# Run inference with TensorFlow Lite\n",
    "interpreter = tf.lite.Interpreter(model_path=model_path)\n",
    "\n",
    "input_details = interpreter.get_input_details()\n",
    "interpreter.resize_tensor_input(input_details[0]['index'], (1, 500, 500, 3), strict=True)\n",
    "interpreter.allocate_tensors()\n",
    "interpreter.set_tensor(input_details[0][\"index\"], input_image)\n",
    "\n",
    "print(input_details)\n",
    "\n",
    "interpreter.invoke()\n",
    "output = interpreter.tensor(interpreter.get_output_details()[0][\"index\"])()[0]\n",
    "print(output)"
   ]
  }
 ],
 "metadata": {
  "accelerator": "GPU",
  "colab": {
   "collapsed_sections": [],
   "name": "mnist_tflite.ipynb",
   "toc_visible": true
  },
  "kernelspec": {
   "display_name": "Python 3 (ipykernel)",
   "language": "python",
   "name": "python3"
  },
  "language_info": {
   "codemirror_mode": {
    "name": "ipython",
    "version": 3
   },
   "file_extension": ".py",
   "mimetype": "text/x-python",
   "name": "python",
   "nbconvert_exporter": "python",
   "pygments_lexer": "ipython3",
   "version": "3.7.16"
  }
 },
 "nbformat": 4,
 "nbformat_minor": 1
}
